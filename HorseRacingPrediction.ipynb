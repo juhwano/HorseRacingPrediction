{
  "nbformat": 4,
  "nbformat_minor": 0,
  "metadata": {
    "colab": {
      "name": "HorseRacingPrediction.ipynb",
      "provenance": [],
      "collapsed_sections": []
    },
    "kernelspec": {
      "name": "python3",
      "display_name": "Python 3"
    },
    "language_info": {
      "name": "python"
    }
  },
  "cells": [
    {
      "cell_type": "code",
      "execution_count": 1,
      "metadata": {
        "colab": {
          "base_uri": "https://localhost:8080/"
        },
        "id": "0fd9hgVtewQW",
        "outputId": "df99a7b5-d3dd-4399-e382-c3701fce3837"
      },
      "outputs": [
        {
          "output_type": "stream",
          "name": "stdout",
          "text": [
            "Reading package lists... Done\n",
            "Building dependency tree       \n",
            "Reading state information... Done\n",
            "fonts-nanum is already the newest version (20170925-1).\n",
            "0 upgraded, 0 newly installed, 0 to remove and 39 not upgraded.\n",
            "/usr/share/fonts: caching, new cache contents: 0 fonts, 1 dirs\n",
            "/usr/share/fonts/truetype: caching, new cache contents: 0 fonts, 3 dirs\n",
            "/usr/share/fonts/truetype/humor-sans: caching, new cache contents: 1 fonts, 0 dirs\n",
            "/usr/share/fonts/truetype/liberation: caching, new cache contents: 16 fonts, 0 dirs\n",
            "/usr/share/fonts/truetype/nanum: caching, new cache contents: 10 fonts, 0 dirs\n",
            "/usr/local/share/fonts: caching, new cache contents: 0 fonts, 0 dirs\n",
            "/root/.local/share/fonts: skipping, no such directory\n",
            "/root/.fonts: skipping, no such directory\n",
            "/var/cache/fontconfig: cleaning cache directory\n",
            "/root/.cache/fontconfig: not cleaning non-existent cache directory\n",
            "/root/.fontconfig: not cleaning non-existent cache directory\n",
            "fc-cache: succeeded\n"
          ]
        }
      ],
      "source": [
        "# font\n",
        "!sudo apt-get install -y fonts-nanum\n",
        "!sudo fc-cache -fv\n",
        "!rm ~/.cache/matplotlib -rf"
      ]
    },
    {
      "cell_type": "code",
      "source": [
        "# google drive\n",
        "from google.colab import drive\n",
        "drive.mount('/gdrive')\n",
        "%cd /gdrive"
      ],
      "metadata": {
        "colab": {
          "base_uri": "https://localhost:8080/"
        },
        "id": "T45ToNOye5gn",
        "outputId": "48592334-d3b7-4ea0-ac1e-57842b506962"
      },
      "execution_count": 2,
      "outputs": [
        {
          "output_type": "stream",
          "name": "stdout",
          "text": [
            "Drive already mounted at /gdrive; to attempt to forcibly remount, call drive.mount(\"/gdrive\", force_remount=True).\n",
            "/gdrive\n"
          ]
        }
      ]
    },
    {
      "cell_type": "code",
      "source": [
        "# import 라이브러리\n",
        "import pandas as pd\n",
        "import numpy as np\n",
        "from tqdm import tqdm\n",
        "import warnings\n",
        "\n",
        "# 경고문 출력 방지\n",
        "warnings.filterwarnings(action='ignore')\n",
        "\n",
        "# visualization\n",
        "import matplotlib as mpl\n",
        "import matplotlib.pylab as plb\n",
        "import matplotlib.pyplot as plt\n",
        "import seaborn as sns\n",
        "\n",
        "# 브라우저에서 바로 그려지도록 \n",
        "%matplotlib inline\n",
        "\n",
        "# 그래프에 retina display 적용\n",
        "%config InlineBackend.figure_format = 'retina'\n",
        "\n",
        "# Colab 의 한글 폰트 설정\n",
        "plt.rc('font', family='NanumBarunGothic') \n",
        "\n",
        "# 유니코드에서  음수 부호설정\n",
        "mpl.rc('axes', unicode_minus=False)\n",
        "\n",
        "# row 생략 없이 출력\n",
        "# pd.set_option('display.max_rows', None)\n",
        "# col 생략 없이 출력\n",
        "# pd.set_option('display.max_columns', None)"
      ],
      "metadata": {
        "id": "d-Vg4SR0e_2p"
      },
      "execution_count": 3,
      "outputs": []
    },
    {
      "cell_type": "markdown",
      "source": [
        "# 데이터 수집"
      ],
      "metadata": {
        "id": "c5oRXieg0pir"
      }
    },
    {
      "cell_type": "code",
      "source": [
        "# csv 파일 읽어오기\n",
        "train_file_path = \"/gdrive/MyDrive/HorseRacingPrediction/data/train.csv\"\n",
        "test_file_path = \"/gdrive/MyDrive/HorseRacingPrediction/data/test.csv\"\n",
        "sm_file_path = \"/gdrive/MyDrive/HorseRacingPrediction/data/sample_submission.csv\"\n",
        "\n",
        "train_df = pd.read_csv(train_file_path)\n",
        "test_df = pd.read_csv(test_file_path)\n",
        "sm_df = pd.read_csv(sm_file_path)\n",
        "\n",
        "# 1,2위 데이터 필터링\n",
        "first_prize = train_df[train_df['ord'] == 1]\n",
        "second_prize = train_df[train_df['ord'] == 2]\n",
        "winner_df = pd.concat([first_prize, second_prize])\n",
        "winner_df[winner_df['rcDate'].isin(pd.date_range('2021-01-08','2021-01-14'))]"
      ],
      "metadata": {
        "colab": {
          "base_uri": "https://localhost:8080/",
          "height": 78
        },
        "id": "oohndirmfU9s",
        "outputId": "f84a6502-a3b3-49ad-bdf3-8a6f26bf0b9e"
      },
      "execution_count": 4,
      "outputs": [
        {
          "output_type": "execute_result",
          "data": {
            "text/plain": [
              "Empty DataFrame\n",
              "Columns: [rcDate, rcNo, chulNo, hrNo, age, ageCond, budam, chaksunT, chaksunY, chaksun_6m, dusu, ilsu, ord1CntT, ord1CntY, ord2CntT, ord2CntY, ord3CntT, ord3CntY, prd, prizeCond, rank, rating, rcCntT, rcCntY, rcDist, sex, wgBudam, track, weather, waterRate, ord, rcTime, jkNo, trNo, owNo]\n",
              "Index: []\n",
              "\n",
              "[0 rows x 35 columns]"
            ],
            "text/html": [
              "\n",
              "  <div id=\"df-4a25f511-8149-43dc-9dea-899e7b7ff2c0\">\n",
              "    <div class=\"colab-df-container\">\n",
              "      <div>\n",
              "<style scoped>\n",
              "    .dataframe tbody tr th:only-of-type {\n",
              "        vertical-align: middle;\n",
              "    }\n",
              "\n",
              "    .dataframe tbody tr th {\n",
              "        vertical-align: top;\n",
              "    }\n",
              "\n",
              "    .dataframe thead th {\n",
              "        text-align: right;\n",
              "    }\n",
              "</style>\n",
              "<table border=\"1\" class=\"dataframe\">\n",
              "  <thead>\n",
              "    <tr style=\"text-align: right;\">\n",
              "      <th></th>\n",
              "      <th>rcDate</th>\n",
              "      <th>rcNo</th>\n",
              "      <th>chulNo</th>\n",
              "      <th>hrNo</th>\n",
              "      <th>age</th>\n",
              "      <th>ageCond</th>\n",
              "      <th>budam</th>\n",
              "      <th>chaksunT</th>\n",
              "      <th>chaksunY</th>\n",
              "      <th>chaksun_6m</th>\n",
              "      <th>...</th>\n",
              "      <th>sex</th>\n",
              "      <th>wgBudam</th>\n",
              "      <th>track</th>\n",
              "      <th>weather</th>\n",
              "      <th>waterRate</th>\n",
              "      <th>ord</th>\n",
              "      <th>rcTime</th>\n",
              "      <th>jkNo</th>\n",
              "      <th>trNo</th>\n",
              "      <th>owNo</th>\n",
              "    </tr>\n",
              "  </thead>\n",
              "  <tbody>\n",
              "  </tbody>\n",
              "</table>\n",
              "<p>0 rows × 35 columns</p>\n",
              "</div>\n",
              "      <button class=\"colab-df-convert\" onclick=\"convertToInteractive('df-4a25f511-8149-43dc-9dea-899e7b7ff2c0')\"\n",
              "              title=\"Convert this dataframe to an interactive table.\"\n",
              "              style=\"display:none;\">\n",
              "        \n",
              "  <svg xmlns=\"http://www.w3.org/2000/svg\" height=\"24px\"viewBox=\"0 0 24 24\"\n",
              "       width=\"24px\">\n",
              "    <path d=\"M0 0h24v24H0V0z\" fill=\"none\"/>\n",
              "    <path d=\"M18.56 5.44l.94 2.06.94-2.06 2.06-.94-2.06-.94-.94-2.06-.94 2.06-2.06.94zm-11 1L8.5 8.5l.94-2.06 2.06-.94-2.06-.94L8.5 2.5l-.94 2.06-2.06.94zm10 10l.94 2.06.94-2.06 2.06-.94-2.06-.94-.94-2.06-.94 2.06-2.06.94z\"/><path d=\"M17.41 7.96l-1.37-1.37c-.4-.4-.92-.59-1.43-.59-.52 0-1.04.2-1.43.59L10.3 9.45l-7.72 7.72c-.78.78-.78 2.05 0 2.83L4 21.41c.39.39.9.59 1.41.59.51 0 1.02-.2 1.41-.59l7.78-7.78 2.81-2.81c.8-.78.8-2.07 0-2.86zM5.41 20L4 18.59l7.72-7.72 1.47 1.35L5.41 20z\"/>\n",
              "  </svg>\n",
              "      </button>\n",
              "      \n",
              "  <style>\n",
              "    .colab-df-container {\n",
              "      display:flex;\n",
              "      flex-wrap:wrap;\n",
              "      gap: 12px;\n",
              "    }\n",
              "\n",
              "    .colab-df-convert {\n",
              "      background-color: #E8F0FE;\n",
              "      border: none;\n",
              "      border-radius: 50%;\n",
              "      cursor: pointer;\n",
              "      display: none;\n",
              "      fill: #1967D2;\n",
              "      height: 32px;\n",
              "      padding: 0 0 0 0;\n",
              "      width: 32px;\n",
              "    }\n",
              "\n",
              "    .colab-df-convert:hover {\n",
              "      background-color: #E2EBFA;\n",
              "      box-shadow: 0px 1px 2px rgba(60, 64, 67, 0.3), 0px 1px 3px 1px rgba(60, 64, 67, 0.15);\n",
              "      fill: #174EA6;\n",
              "    }\n",
              "\n",
              "    [theme=dark] .colab-df-convert {\n",
              "      background-color: #3B4455;\n",
              "      fill: #D2E3FC;\n",
              "    }\n",
              "\n",
              "    [theme=dark] .colab-df-convert:hover {\n",
              "      background-color: #434B5C;\n",
              "      box-shadow: 0px 1px 3px 1px rgba(0, 0, 0, 0.15);\n",
              "      filter: drop-shadow(0px 1px 2px rgba(0, 0, 0, 0.3));\n",
              "      fill: #FFFFFF;\n",
              "    }\n",
              "  </style>\n",
              "\n",
              "      <script>\n",
              "        const buttonEl =\n",
              "          document.querySelector('#df-4a25f511-8149-43dc-9dea-899e7b7ff2c0 button.colab-df-convert');\n",
              "        buttonEl.style.display =\n",
              "          google.colab.kernel.accessAllowed ? 'block' : 'none';\n",
              "\n",
              "        async function convertToInteractive(key) {\n",
              "          const element = document.querySelector('#df-4a25f511-8149-43dc-9dea-899e7b7ff2c0');\n",
              "          const dataTable =\n",
              "            await google.colab.kernel.invokeFunction('convertToInteractive',\n",
              "                                                     [key], {});\n",
              "          if (!dataTable) return;\n",
              "\n",
              "          const docLinkHtml = 'Like what you see? Visit the ' +\n",
              "            '<a target=\"_blank\" href=https://colab.research.google.com/notebooks/data_table.ipynb>data table notebook</a>'\n",
              "            + ' to learn more about interactive tables.';\n",
              "          element.innerHTML = '';\n",
              "          dataTable['output_type'] = 'display_data';\n",
              "          await google.colab.output.renderOutput(dataTable, element);\n",
              "          const docLink = document.createElement('div');\n",
              "          docLink.innerHTML = docLinkHtml;\n",
              "          element.appendChild(docLink);\n",
              "        }\n",
              "      </script>\n",
              "    </div>\n",
              "  </div>\n",
              "  "
            ]
          },
          "metadata": {},
          "execution_count": 4
        }
      ]
    },
    {
      "cell_type": "markdown",
      "source": [
        "# 데이터 탐색"
      ],
      "metadata": {
        "id": "ggKh7j_cM2I4"
      }
    },
    {
      "cell_type": "code",
      "source": [
        "# 데이터 확인하기\n",
        "print(f'데이터셋 크기 : {train_df.shape}')\n",
        "print(f'데이터셋 크기 : {test_df.shape}')"
      ],
      "metadata": {
        "colab": {
          "base_uri": "https://localhost:8080/"
        },
        "id": "wSdUkc3vM393",
        "outputId": "8613e421-b72d-489d-857e-b617db6ee320"
      },
      "execution_count": 5,
      "outputs": [
        {
          "output_type": "stream",
          "name": "stdout",
          "text": [
            "데이터셋 크기 : (7064, 35)\n",
            "데이터셋 크기 : (654, 33)\n"
          ]
        }
      ]
    },
    {
      "cell_type": "code",
      "source": [
        "# 데이터 확인\n",
        "train_df.head()"
      ],
      "metadata": {
        "colab": {
          "base_uri": "https://localhost:8080/",
          "height": 235
        },
        "id": "Rid1dprpM7a6",
        "outputId": "8f2b7c4e-8265-46d7-c08e-d1c0647c97e3"
      },
      "execution_count": 38,
      "outputs": [
        {
          "output_type": "execute_result",
          "data": {
            "text/plain": [
              "     rcDate  rcNo  chulNo   hrNo  age ageCond budam  chaksunT  chaksunY  \\\n",
              "0  20210108     1       1  43108    3    연령오픈   별정A         0         0   \n",
              "1  20210108     1       2  42271    3    연령오픈   별정A         0         0   \n",
              "2  20210108     1       3  42905    3    연령오픈   별정A         0         0   \n",
              "3  20210108     1       4  42445    3    연령오픈   별정A         0         0   \n",
              "4  20210108     1       5  42583    3    연령오픈   별정A         0         0   \n",
              "\n",
              "   chaksun_6m  ...  sex  wgBudam  track  weather  waterRate  ord  rcTime  \\\n",
              "0           0  ...    수     56.5     건조       맑음          3   11    66.1   \n",
              "1           0  ...    거     52.5     건조       맑음          3   12    68.4   \n",
              "2           0  ...    수     56.5     건조       맑음          3    9    65.9   \n",
              "3           0  ...    암     54.5     건조       맑음          3    7    65.2   \n",
              "4           0  ...    거     56.5     건조       맑음          3    6    64.8   \n",
              "\n",
              "    jkNo   trNo    owNo  \n",
              "0  80438  70128  118030  \n",
              "1  80601  70086  104133  \n",
              "2  80588  70129  112286  \n",
              "3  80532  70135  112274  \n",
              "4  80421  70137  110050  \n",
              "\n",
              "[5 rows x 35 columns]"
            ],
            "text/html": [
              "\n",
              "  <div id=\"df-aed928b2-ca6f-4fa8-b352-2030a8730689\">\n",
              "    <div class=\"colab-df-container\">\n",
              "      <div>\n",
              "<style scoped>\n",
              "    .dataframe tbody tr th:only-of-type {\n",
              "        vertical-align: middle;\n",
              "    }\n",
              "\n",
              "    .dataframe tbody tr th {\n",
              "        vertical-align: top;\n",
              "    }\n",
              "\n",
              "    .dataframe thead th {\n",
              "        text-align: right;\n",
              "    }\n",
              "</style>\n",
              "<table border=\"1\" class=\"dataframe\">\n",
              "  <thead>\n",
              "    <tr style=\"text-align: right;\">\n",
              "      <th></th>\n",
              "      <th>rcDate</th>\n",
              "      <th>rcNo</th>\n",
              "      <th>chulNo</th>\n",
              "      <th>hrNo</th>\n",
              "      <th>age</th>\n",
              "      <th>ageCond</th>\n",
              "      <th>budam</th>\n",
              "      <th>chaksunT</th>\n",
              "      <th>chaksunY</th>\n",
              "      <th>chaksun_6m</th>\n",
              "      <th>...</th>\n",
              "      <th>sex</th>\n",
              "      <th>wgBudam</th>\n",
              "      <th>track</th>\n",
              "      <th>weather</th>\n",
              "      <th>waterRate</th>\n",
              "      <th>ord</th>\n",
              "      <th>rcTime</th>\n",
              "      <th>jkNo</th>\n",
              "      <th>trNo</th>\n",
              "      <th>owNo</th>\n",
              "    </tr>\n",
              "  </thead>\n",
              "  <tbody>\n",
              "    <tr>\n",
              "      <th>0</th>\n",
              "      <td>20210108</td>\n",
              "      <td>1</td>\n",
              "      <td>1</td>\n",
              "      <td>43108</td>\n",
              "      <td>3</td>\n",
              "      <td>연령오픈</td>\n",
              "      <td>별정A</td>\n",
              "      <td>0</td>\n",
              "      <td>0</td>\n",
              "      <td>0</td>\n",
              "      <td>...</td>\n",
              "      <td>수</td>\n",
              "      <td>56.5</td>\n",
              "      <td>건조</td>\n",
              "      <td>맑음</td>\n",
              "      <td>3</td>\n",
              "      <td>11</td>\n",
              "      <td>66.1</td>\n",
              "      <td>80438</td>\n",
              "      <td>70128</td>\n",
              "      <td>118030</td>\n",
              "    </tr>\n",
              "    <tr>\n",
              "      <th>1</th>\n",
              "      <td>20210108</td>\n",
              "      <td>1</td>\n",
              "      <td>2</td>\n",
              "      <td>42271</td>\n",
              "      <td>3</td>\n",
              "      <td>연령오픈</td>\n",
              "      <td>별정A</td>\n",
              "      <td>0</td>\n",
              "      <td>0</td>\n",
              "      <td>0</td>\n",
              "      <td>...</td>\n",
              "      <td>거</td>\n",
              "      <td>52.5</td>\n",
              "      <td>건조</td>\n",
              "      <td>맑음</td>\n",
              "      <td>3</td>\n",
              "      <td>12</td>\n",
              "      <td>68.4</td>\n",
              "      <td>80601</td>\n",
              "      <td>70086</td>\n",
              "      <td>104133</td>\n",
              "    </tr>\n",
              "    <tr>\n",
              "      <th>2</th>\n",
              "      <td>20210108</td>\n",
              "      <td>1</td>\n",
              "      <td>3</td>\n",
              "      <td>42905</td>\n",
              "      <td>3</td>\n",
              "      <td>연령오픈</td>\n",
              "      <td>별정A</td>\n",
              "      <td>0</td>\n",
              "      <td>0</td>\n",
              "      <td>0</td>\n",
              "      <td>...</td>\n",
              "      <td>수</td>\n",
              "      <td>56.5</td>\n",
              "      <td>건조</td>\n",
              "      <td>맑음</td>\n",
              "      <td>3</td>\n",
              "      <td>9</td>\n",
              "      <td>65.9</td>\n",
              "      <td>80588</td>\n",
              "      <td>70129</td>\n",
              "      <td>112286</td>\n",
              "    </tr>\n",
              "    <tr>\n",
              "      <th>3</th>\n",
              "      <td>20210108</td>\n",
              "      <td>1</td>\n",
              "      <td>4</td>\n",
              "      <td>42445</td>\n",
              "      <td>3</td>\n",
              "      <td>연령오픈</td>\n",
              "      <td>별정A</td>\n",
              "      <td>0</td>\n",
              "      <td>0</td>\n",
              "      <td>0</td>\n",
              "      <td>...</td>\n",
              "      <td>암</td>\n",
              "      <td>54.5</td>\n",
              "      <td>건조</td>\n",
              "      <td>맑음</td>\n",
              "      <td>3</td>\n",
              "      <td>7</td>\n",
              "      <td>65.2</td>\n",
              "      <td>80532</td>\n",
              "      <td>70135</td>\n",
              "      <td>112274</td>\n",
              "    </tr>\n",
              "    <tr>\n",
              "      <th>4</th>\n",
              "      <td>20210108</td>\n",
              "      <td>1</td>\n",
              "      <td>5</td>\n",
              "      <td>42583</td>\n",
              "      <td>3</td>\n",
              "      <td>연령오픈</td>\n",
              "      <td>별정A</td>\n",
              "      <td>0</td>\n",
              "      <td>0</td>\n",
              "      <td>0</td>\n",
              "      <td>...</td>\n",
              "      <td>거</td>\n",
              "      <td>56.5</td>\n",
              "      <td>건조</td>\n",
              "      <td>맑음</td>\n",
              "      <td>3</td>\n",
              "      <td>6</td>\n",
              "      <td>64.8</td>\n",
              "      <td>80421</td>\n",
              "      <td>70137</td>\n",
              "      <td>110050</td>\n",
              "    </tr>\n",
              "  </tbody>\n",
              "</table>\n",
              "<p>5 rows × 35 columns</p>\n",
              "</div>\n",
              "      <button class=\"colab-df-convert\" onclick=\"convertToInteractive('df-aed928b2-ca6f-4fa8-b352-2030a8730689')\"\n",
              "              title=\"Convert this dataframe to an interactive table.\"\n",
              "              style=\"display:none;\">\n",
              "        \n",
              "  <svg xmlns=\"http://www.w3.org/2000/svg\" height=\"24px\"viewBox=\"0 0 24 24\"\n",
              "       width=\"24px\">\n",
              "    <path d=\"M0 0h24v24H0V0z\" fill=\"none\"/>\n",
              "    <path d=\"M18.56 5.44l.94 2.06.94-2.06 2.06-.94-2.06-.94-.94-2.06-.94 2.06-2.06.94zm-11 1L8.5 8.5l.94-2.06 2.06-.94-2.06-.94L8.5 2.5l-.94 2.06-2.06.94zm10 10l.94 2.06.94-2.06 2.06-.94-2.06-.94-.94-2.06-.94 2.06-2.06.94z\"/><path d=\"M17.41 7.96l-1.37-1.37c-.4-.4-.92-.59-1.43-.59-.52 0-1.04.2-1.43.59L10.3 9.45l-7.72 7.72c-.78.78-.78 2.05 0 2.83L4 21.41c.39.39.9.59 1.41.59.51 0 1.02-.2 1.41-.59l7.78-7.78 2.81-2.81c.8-.78.8-2.07 0-2.86zM5.41 20L4 18.59l7.72-7.72 1.47 1.35L5.41 20z\"/>\n",
              "  </svg>\n",
              "      </button>\n",
              "      \n",
              "  <style>\n",
              "    .colab-df-container {\n",
              "      display:flex;\n",
              "      flex-wrap:wrap;\n",
              "      gap: 12px;\n",
              "    }\n",
              "\n",
              "    .colab-df-convert {\n",
              "      background-color: #E8F0FE;\n",
              "      border: none;\n",
              "      border-radius: 50%;\n",
              "      cursor: pointer;\n",
              "      display: none;\n",
              "      fill: #1967D2;\n",
              "      height: 32px;\n",
              "      padding: 0 0 0 0;\n",
              "      width: 32px;\n",
              "    }\n",
              "\n",
              "    .colab-df-convert:hover {\n",
              "      background-color: #E2EBFA;\n",
              "      box-shadow: 0px 1px 2px rgba(60, 64, 67, 0.3), 0px 1px 3px 1px rgba(60, 64, 67, 0.15);\n",
              "      fill: #174EA6;\n",
              "    }\n",
              "\n",
              "    [theme=dark] .colab-df-convert {\n",
              "      background-color: #3B4455;\n",
              "      fill: #D2E3FC;\n",
              "    }\n",
              "\n",
              "    [theme=dark] .colab-df-convert:hover {\n",
              "      background-color: #434B5C;\n",
              "      box-shadow: 0px 1px 3px 1px rgba(0, 0, 0, 0.15);\n",
              "      filter: drop-shadow(0px 1px 2px rgba(0, 0, 0, 0.3));\n",
              "      fill: #FFFFFF;\n",
              "    }\n",
              "  </style>\n",
              "\n",
              "      <script>\n",
              "        const buttonEl =\n",
              "          document.querySelector('#df-aed928b2-ca6f-4fa8-b352-2030a8730689 button.colab-df-convert');\n",
              "        buttonEl.style.display =\n",
              "          google.colab.kernel.accessAllowed ? 'block' : 'none';\n",
              "\n",
              "        async function convertToInteractive(key) {\n",
              "          const element = document.querySelector('#df-aed928b2-ca6f-4fa8-b352-2030a8730689');\n",
              "          const dataTable =\n",
              "            await google.colab.kernel.invokeFunction('convertToInteractive',\n",
              "                                                     [key], {});\n",
              "          if (!dataTable) return;\n",
              "\n",
              "          const docLinkHtml = 'Like what you see? Visit the ' +\n",
              "            '<a target=\"_blank\" href=https://colab.research.google.com/notebooks/data_table.ipynb>data table notebook</a>'\n",
              "            + ' to learn more about interactive tables.';\n",
              "          element.innerHTML = '';\n",
              "          dataTable['output_type'] = 'display_data';\n",
              "          await google.colab.output.renderOutput(dataTable, element);\n",
              "          const docLink = document.createElement('div');\n",
              "          docLink.innerHTML = docLinkHtml;\n",
              "          element.appendChild(docLink);\n",
              "        }\n",
              "      </script>\n",
              "    </div>\n",
              "  </div>\n",
              "  "
            ]
          },
          "metadata": {},
          "execution_count": 38
        }
      ]
    },
    {
      "cell_type": "code",
      "source": [
        "sm_df.head()"
      ],
      "metadata": {
        "colab": {
          "base_uri": "https://localhost:8080/",
          "height": 81
        },
        "id": "Wn2cTQ9PmQ7K",
        "outputId": "19c9465e-946e-418f-97a3-4f9c836b818f"
      },
      "execution_count": 79,
      "outputs": [
        {
          "output_type": "execute_result",
          "data": {
            "text/plain": [
              "     rcDate  rcNo pred1 pred2 pred3\n",
              "0  20220130     1   3-5   3-7   5-7"
            ],
            "text/html": [
              "\n",
              "  <div id=\"df-c1a45686-ca9e-4930-83ae-ac9f14b3e21a\">\n",
              "    <div class=\"colab-df-container\">\n",
              "      <div>\n",
              "<style scoped>\n",
              "    .dataframe tbody tr th:only-of-type {\n",
              "        vertical-align: middle;\n",
              "    }\n",
              "\n",
              "    .dataframe tbody tr th {\n",
              "        vertical-align: top;\n",
              "    }\n",
              "\n",
              "    .dataframe thead th {\n",
              "        text-align: right;\n",
              "    }\n",
              "</style>\n",
              "<table border=\"1\" class=\"dataframe\">\n",
              "  <thead>\n",
              "    <tr style=\"text-align: right;\">\n",
              "      <th></th>\n",
              "      <th>rcDate</th>\n",
              "      <th>rcNo</th>\n",
              "      <th>pred1</th>\n",
              "      <th>pred2</th>\n",
              "      <th>pred3</th>\n",
              "    </tr>\n",
              "  </thead>\n",
              "  <tbody>\n",
              "    <tr>\n",
              "      <th>0</th>\n",
              "      <td>20220130</td>\n",
              "      <td>1</td>\n",
              "      <td>3-5</td>\n",
              "      <td>3-7</td>\n",
              "      <td>5-7</td>\n",
              "    </tr>\n",
              "  </tbody>\n",
              "</table>\n",
              "</div>\n",
              "      <button class=\"colab-df-convert\" onclick=\"convertToInteractive('df-c1a45686-ca9e-4930-83ae-ac9f14b3e21a')\"\n",
              "              title=\"Convert this dataframe to an interactive table.\"\n",
              "              style=\"display:none;\">\n",
              "        \n",
              "  <svg xmlns=\"http://www.w3.org/2000/svg\" height=\"24px\"viewBox=\"0 0 24 24\"\n",
              "       width=\"24px\">\n",
              "    <path d=\"M0 0h24v24H0V0z\" fill=\"none\"/>\n",
              "    <path d=\"M18.56 5.44l.94 2.06.94-2.06 2.06-.94-2.06-.94-.94-2.06-.94 2.06-2.06.94zm-11 1L8.5 8.5l.94-2.06 2.06-.94-2.06-.94L8.5 2.5l-.94 2.06-2.06.94zm10 10l.94 2.06.94-2.06 2.06-.94-2.06-.94-.94-2.06-.94 2.06-2.06.94z\"/><path d=\"M17.41 7.96l-1.37-1.37c-.4-.4-.92-.59-1.43-.59-.52 0-1.04.2-1.43.59L10.3 9.45l-7.72 7.72c-.78.78-.78 2.05 0 2.83L4 21.41c.39.39.9.59 1.41.59.51 0 1.02-.2 1.41-.59l7.78-7.78 2.81-2.81c.8-.78.8-2.07 0-2.86zM5.41 20L4 18.59l7.72-7.72 1.47 1.35L5.41 20z\"/>\n",
              "  </svg>\n",
              "      </button>\n",
              "      \n",
              "  <style>\n",
              "    .colab-df-container {\n",
              "      display:flex;\n",
              "      flex-wrap:wrap;\n",
              "      gap: 12px;\n",
              "    }\n",
              "\n",
              "    .colab-df-convert {\n",
              "      background-color: #E8F0FE;\n",
              "      border: none;\n",
              "      border-radius: 50%;\n",
              "      cursor: pointer;\n",
              "      display: none;\n",
              "      fill: #1967D2;\n",
              "      height: 32px;\n",
              "      padding: 0 0 0 0;\n",
              "      width: 32px;\n",
              "    }\n",
              "\n",
              "    .colab-df-convert:hover {\n",
              "      background-color: #E2EBFA;\n",
              "      box-shadow: 0px 1px 2px rgba(60, 64, 67, 0.3), 0px 1px 3px 1px rgba(60, 64, 67, 0.15);\n",
              "      fill: #174EA6;\n",
              "    }\n",
              "\n",
              "    [theme=dark] .colab-df-convert {\n",
              "      background-color: #3B4455;\n",
              "      fill: #D2E3FC;\n",
              "    }\n",
              "\n",
              "    [theme=dark] .colab-df-convert:hover {\n",
              "      background-color: #434B5C;\n",
              "      box-shadow: 0px 1px 3px 1px rgba(0, 0, 0, 0.15);\n",
              "      filter: drop-shadow(0px 1px 2px rgba(0, 0, 0, 0.3));\n",
              "      fill: #FFFFFF;\n",
              "    }\n",
              "  </style>\n",
              "\n",
              "      <script>\n",
              "        const buttonEl =\n",
              "          document.querySelector('#df-c1a45686-ca9e-4930-83ae-ac9f14b3e21a button.colab-df-convert');\n",
              "        buttonEl.style.display =\n",
              "          google.colab.kernel.accessAllowed ? 'block' : 'none';\n",
              "\n",
              "        async function convertToInteractive(key) {\n",
              "          const element = document.querySelector('#df-c1a45686-ca9e-4930-83ae-ac9f14b3e21a');\n",
              "          const dataTable =\n",
              "            await google.colab.kernel.invokeFunction('convertToInteractive',\n",
              "                                                     [key], {});\n",
              "          if (!dataTable) return;\n",
              "\n",
              "          const docLinkHtml = 'Like what you see? Visit the ' +\n",
              "            '<a target=\"_blank\" href=https://colab.research.google.com/notebooks/data_table.ipynb>data table notebook</a>'\n",
              "            + ' to learn more about interactive tables.';\n",
              "          element.innerHTML = '';\n",
              "          dataTable['output_type'] = 'display_data';\n",
              "          await google.colab.output.renderOutput(dataTable, element);\n",
              "          const docLink = document.createElement('div');\n",
              "          docLink.innerHTML = docLinkHtml;\n",
              "          element.appendChild(docLink);\n",
              "        }\n",
              "      </script>\n",
              "    </div>\n",
              "  </div>\n",
              "  "
            ]
          },
          "metadata": {},
          "execution_count": 79
        }
      ]
    },
    {
      "cell_type": "markdown",
      "source": [
        "# 데이터 전처리"
      ],
      "metadata": {
        "id": "8YG2nPugMvRP"
      }
    },
    {
      "cell_type": "code",
      "source": [
        "# 경주일자 컬럼 날짜형식으로 변환\n",
        "# from datetime import datetime\n",
        "\n",
        "# df['rcDate'] = df['rcDate'].astype(str)\n",
        "# df['rcDate'] = pd.to_datetime(df['rcDate'])\n",
        "\n",
        "# df['rcDate'] = df['rcDate'].apply(lambda _ : datetime.strptime(_,'%Y%m%d'))\n",
        "# print(df['rcDate'])\n",
        "\n",
        "# df['Year'] = df['rcDate'].dt.year\n",
        "# df['Month'] = df['rcDate'].dt.month\n",
        "\n",
        "# df.head()"
      ],
      "metadata": {
        "id": "321ETK9GM1G3"
      },
      "execution_count": 7,
      "outputs": []
    },
    {
      "cell_type": "code",
      "source": [
        "# 분석하지 않을 변수 제외하기 (순위, 경기기록(초))\n",
        "# train_df2 = train_df.drop(['ord','rcTime'], axis=1, inplace=False)\n",
        "train_df2 = train_df.drop(columns = ['ord', 'rcTime'])\n",
        "train_df2.info()"
      ],
      "metadata": {
        "colab": {
          "base_uri": "https://localhost:8080/"
        },
        "id": "7tAdwQnDJuv-",
        "outputId": "85a60604-f6b0-4390-d5c3-6c319a74d297"
      },
      "execution_count": 8,
      "outputs": [
        {
          "output_type": "stream",
          "name": "stdout",
          "text": [
            "<class 'pandas.core.frame.DataFrame'>\n",
            "RangeIndex: 7064 entries, 0 to 7063\n",
            "Data columns (total 33 columns):\n",
            " #   Column      Non-Null Count  Dtype  \n",
            "---  ------      --------------  -----  \n",
            " 0   rcDate      7064 non-null   int64  \n",
            " 1   rcNo        7064 non-null   int64  \n",
            " 2   chulNo      7064 non-null   int64  \n",
            " 3   hrNo        7064 non-null   int64  \n",
            " 4   age         7064 non-null   int64  \n",
            " 5   ageCond     7064 non-null   object \n",
            " 6   budam       7064 non-null   object \n",
            " 7   chaksunT    7064 non-null   int64  \n",
            " 8   chaksunY    7064 non-null   int64  \n",
            " 9   chaksun_6m  7064 non-null   int64  \n",
            " 10  dusu        7064 non-null   int64  \n",
            " 11  ilsu        7064 non-null   int64  \n",
            " 12  ord1CntT    7064 non-null   int64  \n",
            " 13  ord1CntY    7064 non-null   int64  \n",
            " 14  ord2CntT    7064 non-null   int64  \n",
            " 15  ord2CntY    7064 non-null   int64  \n",
            " 16  ord3CntT    7064 non-null   int64  \n",
            " 17  ord3CntY    7064 non-null   int64  \n",
            " 18  prd         7064 non-null   object \n",
            " 19  prizeCond   7064 non-null   object \n",
            " 20  rank        7064 non-null   object \n",
            " 21  rating      7064 non-null   object \n",
            " 22  rcCntT      7064 non-null   int64  \n",
            " 23  rcCntY      7064 non-null   int64  \n",
            " 24  rcDist      7064 non-null   int64  \n",
            " 25  sex         7064 non-null   object \n",
            " 26  wgBudam     7064 non-null   float64\n",
            " 27  track       7064 non-null   object \n",
            " 28  weather     7064 non-null   object \n",
            " 29  waterRate   7064 non-null   int64  \n",
            " 30  jkNo        7064 non-null   int64  \n",
            " 31  trNo        7064 non-null   int64  \n",
            " 32  owNo        7064 non-null   int64  \n",
            "dtypes: float64(1), int64(23), object(9)\n",
            "memory usage: 1.8+ MB\n"
          ]
        }
      ]
    },
    {
      "cell_type": "code",
      "source": [
        "all_df = pd.concat([train_df2, test_df])"
      ],
      "metadata": {
        "id": "1zw5LmyIOGHq"
      },
      "execution_count": 9,
      "outputs": []
    },
    {
      "cell_type": "code",
      "source": [
        "cat_cols = test_df.columns[test_df.dtypes == object]\n",
        "cat_cols"
      ],
      "metadata": {
        "colab": {
          "base_uri": "https://localhost:8080/"
        },
        "id": "nFWDUyQzJ1Gp",
        "outputId": "edd301b1-0a0a-48d5-cd95-e23f91645edc"
      },
      "execution_count": 10,
      "outputs": [
        {
          "output_type": "execute_result",
          "data": {
            "text/plain": [
              "Index(['ageCond', 'budam', 'prd', 'prizeCond', 'rank', 'rating', 'sex',\n",
              "       'track', 'weather'],\n",
              "      dtype='object')"
            ]
          },
          "metadata": {},
          "execution_count": 10
        }
      ]
    },
    {
      "cell_type": "code",
      "source": [
        "from sklearn.preprocessing import LabelEncoder\n",
        "# 라벨 인코딩(문자 -> 숫자)\n",
        "le = LabelEncoder()\n",
        "for i in cat_cols:\n",
        "    all_df[i] = le.fit_transform(list(all_df[i]))\n",
        "all_df"
      ],
      "metadata": {
        "colab": {
          "base_uri": "https://localhost:8080/",
          "height": 423
        },
        "id": "6V6SUdr8NA5T",
        "outputId": "db213f2d-9244-4c5e-d7fb-b12e8ad12fef"
      },
      "execution_count": 11,
      "outputs": [
        {
          "output_type": "execute_result",
          "data": {
            "text/plain": [
              "       rcDate  rcNo  chulNo   hrNo  age  ageCond  budam    chaksunT  \\\n",
              "0    20210108     1       1  43108    3        4      0           0   \n",
              "1    20210108     1       2  42271    3        4      0           0   \n",
              "2    20210108     1       3  42905    3        4      0           0   \n",
              "3    20210108     1       4  42445    3        4      0           0   \n",
              "4    20210108     1       5  42583    3        4      0           0   \n",
              "..        ...   ...     ...    ...  ...      ...    ...         ...   \n",
              "649  20220130     6       9  43191    4        4      2   232710000   \n",
              "650  20220130     6      10  38065    8        4      2   462550000   \n",
              "651  20220130     6      11  38180    8        4      2   358200000   \n",
              "652  20220130     6      13  36510    9        4      2  1470900000   \n",
              "653  20220130     6      14  41204    5        4      2   306080000   \n",
              "\n",
              "      chaksunY  chaksun_6m  ...  rcCntY  rcDist  sex  wgBudam  track  weather  \\\n",
              "0            0           0  ...       0    1000    1     56.5      0        0   \n",
              "1            0           0  ...       0    1000    0     52.5      0        0   \n",
              "2            0           0  ...       0    1000    1     56.5      0        0   \n",
              "3            0           0  ...       0    1000    2     54.5      0        0   \n",
              "4            0           0  ...       0    1000    0     56.5      0        0   \n",
              "..         ...         ...  ...     ...     ...  ...      ...    ...      ...   \n",
              "649  185150000   130350000  ...      12    1400    1     52.0      0        0   \n",
              "650   28500000           0  ...       6    1400    0     52.0      0        0   \n",
              "651          0           0  ...       2    1400    2     51.0      0        0   \n",
              "652   19800000    19800000  ...       6    1400    1     55.5      0        0   \n",
              "653  102300000    19800000  ...       8    1400    1     52.0      0        0   \n",
              "\n",
              "     waterRate   jkNo   trNo    owNo  \n",
              "0            3  80438  70128  118030  \n",
              "1            3  80601  70086  104133  \n",
              "2            3  80588  70129  112286  \n",
              "3            3  80532  70135  112274  \n",
              "4            3  80421  70137  110050  \n",
              "..         ...    ...    ...     ...  \n",
              "649          2  80484  70086  201269  \n",
              "650          2  80434  70128  113115  \n",
              "651          2  80482  70141  104131  \n",
              "652          2  80600  70136  105040  \n",
              "653          2  80421  70126  106075  \n",
              "\n",
              "[7718 rows x 33 columns]"
            ],
            "text/html": [
              "\n",
              "  <div id=\"df-49cb5386-e3db-4321-916b-4e77c2b61b68\">\n",
              "    <div class=\"colab-df-container\">\n",
              "      <div>\n",
              "<style scoped>\n",
              "    .dataframe tbody tr th:only-of-type {\n",
              "        vertical-align: middle;\n",
              "    }\n",
              "\n",
              "    .dataframe tbody tr th {\n",
              "        vertical-align: top;\n",
              "    }\n",
              "\n",
              "    .dataframe thead th {\n",
              "        text-align: right;\n",
              "    }\n",
              "</style>\n",
              "<table border=\"1\" class=\"dataframe\">\n",
              "  <thead>\n",
              "    <tr style=\"text-align: right;\">\n",
              "      <th></th>\n",
              "      <th>rcDate</th>\n",
              "      <th>rcNo</th>\n",
              "      <th>chulNo</th>\n",
              "      <th>hrNo</th>\n",
              "      <th>age</th>\n",
              "      <th>ageCond</th>\n",
              "      <th>budam</th>\n",
              "      <th>chaksunT</th>\n",
              "      <th>chaksunY</th>\n",
              "      <th>chaksun_6m</th>\n",
              "      <th>...</th>\n",
              "      <th>rcCntY</th>\n",
              "      <th>rcDist</th>\n",
              "      <th>sex</th>\n",
              "      <th>wgBudam</th>\n",
              "      <th>track</th>\n",
              "      <th>weather</th>\n",
              "      <th>waterRate</th>\n",
              "      <th>jkNo</th>\n",
              "      <th>trNo</th>\n",
              "      <th>owNo</th>\n",
              "    </tr>\n",
              "  </thead>\n",
              "  <tbody>\n",
              "    <tr>\n",
              "      <th>0</th>\n",
              "      <td>20210108</td>\n",
              "      <td>1</td>\n",
              "      <td>1</td>\n",
              "      <td>43108</td>\n",
              "      <td>3</td>\n",
              "      <td>4</td>\n",
              "      <td>0</td>\n",
              "      <td>0</td>\n",
              "      <td>0</td>\n",
              "      <td>0</td>\n",
              "      <td>...</td>\n",
              "      <td>0</td>\n",
              "      <td>1000</td>\n",
              "      <td>1</td>\n",
              "      <td>56.5</td>\n",
              "      <td>0</td>\n",
              "      <td>0</td>\n",
              "      <td>3</td>\n",
              "      <td>80438</td>\n",
              "      <td>70128</td>\n",
              "      <td>118030</td>\n",
              "    </tr>\n",
              "    <tr>\n",
              "      <th>1</th>\n",
              "      <td>20210108</td>\n",
              "      <td>1</td>\n",
              "      <td>2</td>\n",
              "      <td>42271</td>\n",
              "      <td>3</td>\n",
              "      <td>4</td>\n",
              "      <td>0</td>\n",
              "      <td>0</td>\n",
              "      <td>0</td>\n",
              "      <td>0</td>\n",
              "      <td>...</td>\n",
              "      <td>0</td>\n",
              "      <td>1000</td>\n",
              "      <td>0</td>\n",
              "      <td>52.5</td>\n",
              "      <td>0</td>\n",
              "      <td>0</td>\n",
              "      <td>3</td>\n",
              "      <td>80601</td>\n",
              "      <td>70086</td>\n",
              "      <td>104133</td>\n",
              "    </tr>\n",
              "    <tr>\n",
              "      <th>2</th>\n",
              "      <td>20210108</td>\n",
              "      <td>1</td>\n",
              "      <td>3</td>\n",
              "      <td>42905</td>\n",
              "      <td>3</td>\n",
              "      <td>4</td>\n",
              "      <td>0</td>\n",
              "      <td>0</td>\n",
              "      <td>0</td>\n",
              "      <td>0</td>\n",
              "      <td>...</td>\n",
              "      <td>0</td>\n",
              "      <td>1000</td>\n",
              "      <td>1</td>\n",
              "      <td>56.5</td>\n",
              "      <td>0</td>\n",
              "      <td>0</td>\n",
              "      <td>3</td>\n",
              "      <td>80588</td>\n",
              "      <td>70129</td>\n",
              "      <td>112286</td>\n",
              "    </tr>\n",
              "    <tr>\n",
              "      <th>3</th>\n",
              "      <td>20210108</td>\n",
              "      <td>1</td>\n",
              "      <td>4</td>\n",
              "      <td>42445</td>\n",
              "      <td>3</td>\n",
              "      <td>4</td>\n",
              "      <td>0</td>\n",
              "      <td>0</td>\n",
              "      <td>0</td>\n",
              "      <td>0</td>\n",
              "      <td>...</td>\n",
              "      <td>0</td>\n",
              "      <td>1000</td>\n",
              "      <td>2</td>\n",
              "      <td>54.5</td>\n",
              "      <td>0</td>\n",
              "      <td>0</td>\n",
              "      <td>3</td>\n",
              "      <td>80532</td>\n",
              "      <td>70135</td>\n",
              "      <td>112274</td>\n",
              "    </tr>\n",
              "    <tr>\n",
              "      <th>4</th>\n",
              "      <td>20210108</td>\n",
              "      <td>1</td>\n",
              "      <td>5</td>\n",
              "      <td>42583</td>\n",
              "      <td>3</td>\n",
              "      <td>4</td>\n",
              "      <td>0</td>\n",
              "      <td>0</td>\n",
              "      <td>0</td>\n",
              "      <td>0</td>\n",
              "      <td>...</td>\n",
              "      <td>0</td>\n",
              "      <td>1000</td>\n",
              "      <td>0</td>\n",
              "      <td>56.5</td>\n",
              "      <td>0</td>\n",
              "      <td>0</td>\n",
              "      <td>3</td>\n",
              "      <td>80421</td>\n",
              "      <td>70137</td>\n",
              "      <td>110050</td>\n",
              "    </tr>\n",
              "    <tr>\n",
              "      <th>...</th>\n",
              "      <td>...</td>\n",
              "      <td>...</td>\n",
              "      <td>...</td>\n",
              "      <td>...</td>\n",
              "      <td>...</td>\n",
              "      <td>...</td>\n",
              "      <td>...</td>\n",
              "      <td>...</td>\n",
              "      <td>...</td>\n",
              "      <td>...</td>\n",
              "      <td>...</td>\n",
              "      <td>...</td>\n",
              "      <td>...</td>\n",
              "      <td>...</td>\n",
              "      <td>...</td>\n",
              "      <td>...</td>\n",
              "      <td>...</td>\n",
              "      <td>...</td>\n",
              "      <td>...</td>\n",
              "      <td>...</td>\n",
              "      <td>...</td>\n",
              "    </tr>\n",
              "    <tr>\n",
              "      <th>649</th>\n",
              "      <td>20220130</td>\n",
              "      <td>6</td>\n",
              "      <td>9</td>\n",
              "      <td>43191</td>\n",
              "      <td>4</td>\n",
              "      <td>4</td>\n",
              "      <td>2</td>\n",
              "      <td>232710000</td>\n",
              "      <td>185150000</td>\n",
              "      <td>130350000</td>\n",
              "      <td>...</td>\n",
              "      <td>12</td>\n",
              "      <td>1400</td>\n",
              "      <td>1</td>\n",
              "      <td>52.0</td>\n",
              "      <td>0</td>\n",
              "      <td>0</td>\n",
              "      <td>2</td>\n",
              "      <td>80484</td>\n",
              "      <td>70086</td>\n",
              "      <td>201269</td>\n",
              "    </tr>\n",
              "    <tr>\n",
              "      <th>650</th>\n",
              "      <td>20220130</td>\n",
              "      <td>6</td>\n",
              "      <td>10</td>\n",
              "      <td>38065</td>\n",
              "      <td>8</td>\n",
              "      <td>4</td>\n",
              "      <td>2</td>\n",
              "      <td>462550000</td>\n",
              "      <td>28500000</td>\n",
              "      <td>0</td>\n",
              "      <td>...</td>\n",
              "      <td>6</td>\n",
              "      <td>1400</td>\n",
              "      <td>0</td>\n",
              "      <td>52.0</td>\n",
              "      <td>0</td>\n",
              "      <td>0</td>\n",
              "      <td>2</td>\n",
              "      <td>80434</td>\n",
              "      <td>70128</td>\n",
              "      <td>113115</td>\n",
              "    </tr>\n",
              "    <tr>\n",
              "      <th>651</th>\n",
              "      <td>20220130</td>\n",
              "      <td>6</td>\n",
              "      <td>11</td>\n",
              "      <td>38180</td>\n",
              "      <td>8</td>\n",
              "      <td>4</td>\n",
              "      <td>2</td>\n",
              "      <td>358200000</td>\n",
              "      <td>0</td>\n",
              "      <td>0</td>\n",
              "      <td>...</td>\n",
              "      <td>2</td>\n",
              "      <td>1400</td>\n",
              "      <td>2</td>\n",
              "      <td>51.0</td>\n",
              "      <td>0</td>\n",
              "      <td>0</td>\n",
              "      <td>2</td>\n",
              "      <td>80482</td>\n",
              "      <td>70141</td>\n",
              "      <td>104131</td>\n",
              "    </tr>\n",
              "    <tr>\n",
              "      <th>652</th>\n",
              "      <td>20220130</td>\n",
              "      <td>6</td>\n",
              "      <td>13</td>\n",
              "      <td>36510</td>\n",
              "      <td>9</td>\n",
              "      <td>4</td>\n",
              "      <td>2</td>\n",
              "      <td>1470900000</td>\n",
              "      <td>19800000</td>\n",
              "      <td>19800000</td>\n",
              "      <td>...</td>\n",
              "      <td>6</td>\n",
              "      <td>1400</td>\n",
              "      <td>1</td>\n",
              "      <td>55.5</td>\n",
              "      <td>0</td>\n",
              "      <td>0</td>\n",
              "      <td>2</td>\n",
              "      <td>80600</td>\n",
              "      <td>70136</td>\n",
              "      <td>105040</td>\n",
              "    </tr>\n",
              "    <tr>\n",
              "      <th>653</th>\n",
              "      <td>20220130</td>\n",
              "      <td>6</td>\n",
              "      <td>14</td>\n",
              "      <td>41204</td>\n",
              "      <td>5</td>\n",
              "      <td>4</td>\n",
              "      <td>2</td>\n",
              "      <td>306080000</td>\n",
              "      <td>102300000</td>\n",
              "      <td>19800000</td>\n",
              "      <td>...</td>\n",
              "      <td>8</td>\n",
              "      <td>1400</td>\n",
              "      <td>1</td>\n",
              "      <td>52.0</td>\n",
              "      <td>0</td>\n",
              "      <td>0</td>\n",
              "      <td>2</td>\n",
              "      <td>80421</td>\n",
              "      <td>70126</td>\n",
              "      <td>106075</td>\n",
              "    </tr>\n",
              "  </tbody>\n",
              "</table>\n",
              "<p>7718 rows × 33 columns</p>\n",
              "</div>\n",
              "      <button class=\"colab-df-convert\" onclick=\"convertToInteractive('df-49cb5386-e3db-4321-916b-4e77c2b61b68')\"\n",
              "              title=\"Convert this dataframe to an interactive table.\"\n",
              "              style=\"display:none;\">\n",
              "        \n",
              "  <svg xmlns=\"http://www.w3.org/2000/svg\" height=\"24px\"viewBox=\"0 0 24 24\"\n",
              "       width=\"24px\">\n",
              "    <path d=\"M0 0h24v24H0V0z\" fill=\"none\"/>\n",
              "    <path d=\"M18.56 5.44l.94 2.06.94-2.06 2.06-.94-2.06-.94-.94-2.06-.94 2.06-2.06.94zm-11 1L8.5 8.5l.94-2.06 2.06-.94-2.06-.94L8.5 2.5l-.94 2.06-2.06.94zm10 10l.94 2.06.94-2.06 2.06-.94-2.06-.94-.94-2.06-.94 2.06-2.06.94z\"/><path d=\"M17.41 7.96l-1.37-1.37c-.4-.4-.92-.59-1.43-.59-.52 0-1.04.2-1.43.59L10.3 9.45l-7.72 7.72c-.78.78-.78 2.05 0 2.83L4 21.41c.39.39.9.59 1.41.59.51 0 1.02-.2 1.41-.59l7.78-7.78 2.81-2.81c.8-.78.8-2.07 0-2.86zM5.41 20L4 18.59l7.72-7.72 1.47 1.35L5.41 20z\"/>\n",
              "  </svg>\n",
              "      </button>\n",
              "      \n",
              "  <style>\n",
              "    .colab-df-container {\n",
              "      display:flex;\n",
              "      flex-wrap:wrap;\n",
              "      gap: 12px;\n",
              "    }\n",
              "\n",
              "    .colab-df-convert {\n",
              "      background-color: #E8F0FE;\n",
              "      border: none;\n",
              "      border-radius: 50%;\n",
              "      cursor: pointer;\n",
              "      display: none;\n",
              "      fill: #1967D2;\n",
              "      height: 32px;\n",
              "      padding: 0 0 0 0;\n",
              "      width: 32px;\n",
              "    }\n",
              "\n",
              "    .colab-df-convert:hover {\n",
              "      background-color: #E2EBFA;\n",
              "      box-shadow: 0px 1px 2px rgba(60, 64, 67, 0.3), 0px 1px 3px 1px rgba(60, 64, 67, 0.15);\n",
              "      fill: #174EA6;\n",
              "    }\n",
              "\n",
              "    [theme=dark] .colab-df-convert {\n",
              "      background-color: #3B4455;\n",
              "      fill: #D2E3FC;\n",
              "    }\n",
              "\n",
              "    [theme=dark] .colab-df-convert:hover {\n",
              "      background-color: #434B5C;\n",
              "      box-shadow: 0px 1px 3px 1px rgba(0, 0, 0, 0.15);\n",
              "      filter: drop-shadow(0px 1px 2px rgba(0, 0, 0, 0.3));\n",
              "      fill: #FFFFFF;\n",
              "    }\n",
              "  </style>\n",
              "\n",
              "      <script>\n",
              "        const buttonEl =\n",
              "          document.querySelector('#df-49cb5386-e3db-4321-916b-4e77c2b61b68 button.colab-df-convert');\n",
              "        buttonEl.style.display =\n",
              "          google.colab.kernel.accessAllowed ? 'block' : 'none';\n",
              "\n",
              "        async function convertToInteractive(key) {\n",
              "          const element = document.querySelector('#df-49cb5386-e3db-4321-916b-4e77c2b61b68');\n",
              "          const dataTable =\n",
              "            await google.colab.kernel.invokeFunction('convertToInteractive',\n",
              "                                                     [key], {});\n",
              "          if (!dataTable) return;\n",
              "\n",
              "          const docLinkHtml = 'Like what you see? Visit the ' +\n",
              "            '<a target=\"_blank\" href=https://colab.research.google.com/notebooks/data_table.ipynb>data table notebook</a>'\n",
              "            + ' to learn more about interactive tables.';\n",
              "          element.innerHTML = '';\n",
              "          dataTable['output_type'] = 'display_data';\n",
              "          await google.colab.output.renderOutput(dataTable, element);\n",
              "          const docLink = document.createElement('div');\n",
              "          docLink.innerHTML = docLinkHtml;\n",
              "          element.appendChild(docLink);\n",
              "        }\n",
              "      </script>\n",
              "    </div>\n",
              "  </div>\n",
              "  "
            ]
          },
          "metadata": {},
          "execution_count": 11
        }
      ]
    },
    {
      "cell_type": "code",
      "source": [
        "# 전처리한 데이터 분리하기\n",
        "train_df3 = all_df[:len(train_df2)]\n",
        "test_df2 = all_df[len(train_df):]"
      ],
      "metadata": {
        "id": "_hSho7HJSizQ"
      },
      "execution_count": 12,
      "outputs": []
    },
    {
      "cell_type": "markdown",
      "source": [
        "# 데이터 시각화(EDA)"
      ],
      "metadata": {
        "id": "7Xx485T_C3eO"
      }
    },
    {
      "cell_type": "code",
      "source": [
        "plt.figure(figsize = (16,10))\n",
        "sns.boxplot(train_df['rank'], train_df['ord'])"
      ],
      "metadata": {
        "id": "5HQTF08YNi2q",
        "colab": {
          "base_uri": "https://localhost:8080/",
          "height": 0
        },
        "outputId": "b38f2bac-0776-48de-8c02-c84b97547f97"
      },
      "execution_count": 13,
      "outputs": [
        {
          "output_type": "execute_result",
          "data": {
            "text/plain": [
              "<matplotlib.axes._subplots.AxesSubplot at 0x7fa7256e3690>"
            ]
          },
          "metadata": {},
          "execution_count": 13
        },
        {
          "output_type": "display_data",
          "data": {
            "text/plain": [
              "<Figure size 1152x720 with 1 Axes>"
            ],
            "image/png": "[encoded data removed]"
          },
          "metadata": {
            "image/png": {
              "width": 940,
              "height": 591
            },
            "needs_background": "light"
          }
        }
      ]
    },
    {
      "cell_type": "code",
      "source": [
        "# 1, 2등 말의 성별\n",
        "# fig, ax = plt.subplots(figsize=(10,6))\n",
        "# fig =sns.countplot(x=winner_df['sex'])\n",
        "# plt.show()"
      ],
      "metadata": {
        "id": "p3YZXdyOMfHY"
      },
      "execution_count": 14,
      "outputs": []
    },
    {
      "cell_type": "code",
      "source": [
        "# 1, 2등이 가장 많은 연령 분포\n",
        "# fig, ax = plt.subplots(figsize=(10,6))\n",
        "# fig = sns.kdeplot(x=winner_df['age'])\n",
        "# plt.show()"
      ],
      "metadata": {
        "id": "QeGs8iJ-NIAR"
      },
      "execution_count": 15,
      "outputs": []
    },
    {
      "cell_type": "code",
      "source": [
        "# 1,2등이 가장 많이 나온 트랙\n",
        "# fig, ax = plt.subplots(figsize=(10,6))\n",
        "# fig = sns.countplot(x=winner_df['track'])\n",
        "# plt.show()"
      ],
      "metadata": {
        "id": "3EtHA7OwNOrf"
      },
      "execution_count": 16,
      "outputs": []
    },
    {
      "cell_type": "code",
      "source": [
        "# 경마장 함수율\n",
        "# fig, ax = plt.subplots(figsize=(10,6))\n",
        "# fig = sns.countplot(x=winner_df['waterRate'])\n",
        "# plt.show()"
      ],
      "metadata": {
        "id": "qaAWSf5HNYd2"
      },
      "execution_count": 17,
      "outputs": []
    },
    {
      "cell_type": "markdown",
      "source": [
        "- 트랙상태와 연관이 있어보인다"
      ],
      "metadata": {
        "id": "kHOkVk5jZYzw"
      }
    },
    {
      "cell_type": "code",
      "source": [
        "# 경기수가 가장 많은 연령제한\n",
        "# fig, ax = plt.subplots(figsize=(10,6))\n",
        "# fig = sns.countplot(x=winner_df['ageCond'])\n",
        "# plt.show()"
      ],
      "metadata": {
        "id": "JfjKyp4dNRct"
      },
      "execution_count": 18,
      "outputs": []
    },
    {
      "cell_type": "markdown",
      "source": [
        "- 3세를 기준으로 나뉘어 3세가 출전 가능한 경기가 많다."
      ],
      "metadata": {
        "id": "DzYdAu8oPBFR"
      }
    },
    {
      "cell_type": "code",
      "source": [
        "# 1,2 등 말의 등급\n",
        "# fig, ax = plt.subplots(figsize=(10,6))\n",
        "# fig = sns.countplot(x=winner_df['rank'].sort_values(ascending=False))\n",
        "# plt.show()"
      ],
      "metadata": {
        "id": "gzNg4XGmQEjF"
      },
      "execution_count": 19,
      "outputs": []
    },
    {
      "cell_type": "code",
      "source": [
        "# 연령제한경기별 1,2등 말의 연령\n",
        "# fig, ax = plt.subplots(figsize=(10,6))\n",
        "# fig = sns.boxplot(x=winner_df['age'], y=winner_df['ageCond'])\n",
        "# plt.show()"
      ],
      "metadata": {
        "id": "sK4XiFqb8tu7"
      },
      "execution_count": 20,
      "outputs": []
    },
    {
      "cell_type": "markdown",
      "source": [
        "- 3세이상 경기(1경기)에서 4세(1등), 6세 (2등)"
      ],
      "metadata": {
        "id": "iuRxm8QRL4z2"
      }
    },
    {
      "cell_type": "code",
      "source": [
        "# 경주거리별 상금조건\n",
        "# sns.stripplot(x=winner_df['rcDist'], y=winner_df['prizeCond'])"
      ],
      "metadata": {
        "id": "LCk1sWBJ9xX9"
      },
      "execution_count": 21,
      "outputs": []
    },
    {
      "cell_type": "code",
      "source": [
        ""
      ],
      "metadata": {
        "id": "yf9BADzEOXoz"
      },
      "execution_count": 21,
      "outputs": []
    },
    {
      "cell_type": "markdown",
      "source": [
        "# 모델 선별"
      ],
      "metadata": {
        "id": "Nc5L8t7cZil9"
      }
    },
    {
      "cell_type": "code",
      "source": [
        ""
      ],
      "metadata": {
        "id": "CfiVlygUOaKh"
      },
      "execution_count": 21,
      "outputs": []
    },
    {
      "cell_type": "markdown",
      "source": [
        "## RandomForest"
      ],
      "metadata": {
        "id": "mwL-pf1pNV5t"
      }
    },
    {
      "cell_type": "code",
      "source": [
        "from sklearn.ensemble import RandomForestRegressor \n",
        "#모델 선언\n",
        "rf = RandomForestRegressor(n_jobs = 4, random_state = 42)\n",
        "#모델 학습\n",
        "rf.fit(train_df3, train_df['ord'])\n",
        "# 테스트셋 예측\n",
        "result_cas = rf.predict(test_df2)"
      ],
      "metadata": {
        "id": "9c6Z5TlNNVC3"
      },
      "execution_count": 22,
      "outputs": []
    },
    {
      "cell_type": "code",
      "source": [
        "print(f'Accuracy on training set : {rf.score(train_df3, train_df[\"ord\"])}')"
      ],
      "metadata": {
        "colab": {
          "base_uri": "https://localhost:8080/"
        },
        "id": "09n5E3F_U40R",
        "outputId": "ccd11fcc-8b21-4e0c-c063-3e4373b02d2c"
      },
      "execution_count": 23,
      "outputs": [
        {
          "output_type": "stream",
          "name": "stdout",
          "text": [
            "Accuracy on training set : 0.8880269309195373\n"
          ]
        }
      ]
    },
    {
      "cell_type": "code",
      "source": [
        "pd.DataFrame({'rcDate': test_df.rcDate, 'pred': result_cas}).set_index('rcDate').to_csv('/gdrive/MyDrive/HorseRacingPrediction/sub.csv')"
      ],
      "metadata": {
        "id": "UXqLOJZTPD49"
      },
      "execution_count": 24,
      "outputs": []
    },
    {
      "cell_type": "markdown",
      "source": [
        "# LinearRegression"
      ],
      "metadata": {
        "id": "i_6kLjtyRdyY"
      }
    },
    {
      "cell_type": "code",
      "source": [
        "from sklearn.model_selection import train_test_split\n",
        "\n",
        "train_data, test_data, train_target, test_target = train_test_split(\n",
        "    train_df3, train_df['ord'], test_size=0.3\n",
        ")"
      ],
      "metadata": {
        "id": "6LX6SzCDUbmk"
      },
      "execution_count": 47,
      "outputs": []
    },
    {
      "cell_type": "code",
      "source": [
        "len(train_df3), len(train_data), len(test_data)"
      ],
      "metadata": {
        "colab": {
          "base_uri": "https://localhost:8080/"
        },
        "id": "fODV56bdVBi4",
        "outputId": "e481943d-e71f-4294-9958-1ed7d8382ac3"
      },
      "execution_count": 48,
      "outputs": [
        {
          "output_type": "execute_result",
          "data": {
            "text/plain": [
              "(7064, 4944, 2120)"
            ]
          },
          "metadata": {},
          "execution_count": 48
        }
      ]
    },
    {
      "cell_type": "markdown",
      "source": [
        "Multivariate Regression 학습"
      ],
      "metadata": {
        "id": "8sqodAHDVh7d"
      }
    },
    {
      "cell_type": "code",
      "source": [
        "# 다변량 회귀식 x1가 0.5 x2가 2증가하면 x2가 증가할떄 더 많이 증가 -> 영향 증가\n",
        "from sklearn.linear_model import LinearRegression\n",
        "\n",
        "multi_regressor = LinearRegression()\n",
        "multi_regressor.fit(train_data, train_target)"
      ],
      "metadata": {
        "colab": {
          "base_uri": "https://localhost:8080/"
        },
        "id": "zwplhSGhRgwC",
        "outputId": "af68243b-5298-4974-823a-81eb8934974d"
      },
      "execution_count": 49,
      "outputs": [
        {
          "output_type": "execute_result",
          "data": {
            "text/plain": [
              "LinearRegression()"
            ]
          },
          "metadata": {},
          "execution_count": 49
        }
      ]
    },
    {
      "cell_type": "markdown",
      "source": [
        "회귀식 확인"
      ],
      "metadata": {
        "id": "JtOJG88TVnTP"
      }
    },
    {
      "cell_type": "code",
      "source": [
        "# 편향 확인\n",
        "multi_regressor.intercept_"
      ],
      "metadata": {
        "colab": {
          "base_uri": "https://localhost:8080/"
        },
        "id": "iHERn1kVRn_A",
        "outputId": "1c77cfdc-4ec3-43cb-97b8-c30ec29d6c6b"
      },
      "execution_count": 51,
      "outputs": [
        {
          "output_type": "execute_result",
          "data": {
            "text/plain": [
              "21404.668986887955"
            ]
          },
          "metadata": {},
          "execution_count": 51
        }
      ]
    },
    {
      "cell_type": "code",
      "source": [
        "# 계수 확인\n",
        "multi_regressor.coef_"
      ],
      "metadata": {
        "colab": {
          "base_uri": "https://localhost:8080/"
        },
        "id": "x4h9Bn-RR29P",
        "outputId": "44993999-0099-4674-d3cd-ace518b34d25"
      },
      "execution_count": 52,
      "outputs": [
        {
          "output_type": "execute_result",
          "data": {
            "text/plain": [
              "array([-1.04138655e-03,  3.38112703e-02,  8.64094696e-02, -1.24091216e-04,\n",
              "        2.36136994e-01, -6.15203537e-02,  7.41168256e-02, -9.69832869e-10,\n",
              "        4.25885434e-09, -2.60841209e-08,  4.59158446e-01,  2.13493136e-02,\n",
              "       -8.90057432e-02, -3.98285374e-01, -4.36270124e-02, -5.47617571e-01,\n",
              "       -1.15801007e-01, -2.40480749e-01,  8.35357275e-02,  1.44011128e-02,\n",
              "        5.40989470e-02,  7.42490374e-03,  2.53516709e-02, -2.23651809e-02,\n",
              "        5.56411050e-04,  2.07910582e-01, -9.01240522e-02, -2.31021773e-02,\n",
              "        1.69950585e-02,  2.10340843e-02, -1.94597003e-05, -4.95299300e-03,\n",
              "       -6.33526421e-06])"
            ]
          },
          "metadata": {},
          "execution_count": 52
        }
      ]
    },
    {
      "cell_type": "markdown",
      "source": [
        "예측"
      ],
      "metadata": {
        "id": "RtVPEqTHVwLY"
      }
    },
    {
      "cell_type": "code",
      "source": [
        "multi_train_pred = multi_regressor.predict(train_data)\n",
        "multi_test_pred = multi_regressor.predict(test_data)"
      ],
      "metadata": {
        "id": "BOak45OGR4QX"
      },
      "execution_count": 53,
      "outputs": []
    },
    {
      "cell_type": "markdown",
      "source": [
        "평가 "
      ],
      "metadata": {
        "id": "xAngoRY-J4KV"
      }
    },
    {
      "cell_type": "code",
      "source": [
        "# 실제 값의 부호보다는 크기만 보고 싶다 -> 차이의 크기를 반영하기 위해 제곱을 하고 평균을 구함\n",
        "# 값이 작을수록 잘 예측\n",
        "from sklearn.metrics import mean_squared_error\n",
        "\n",
        "multi_train_mse = mean_squared_error(multi_train_pred, train_target)\n",
        "multi_test_mse = mean_squared_error(multi_test_pred, test_target)"
      ],
      "metadata": {
        "id": "ZNm0flRjV8iE"
      },
      "execution_count": 54,
      "outputs": []
    },
    {
      "cell_type": "code",
      "source": [
        "print(f'Multi Regression Train MSE is {multi_train_mse:.4f}')\n",
        "print(f'Multi Regression Test MSE is {multi_test_mse:.4f}')"
      ],
      "metadata": {
        "colab": {
          "base_uri": "https://localhost:8080/"
        },
        "id": "VfmEBKVAWz_4",
        "outputId": "e5be8287-ce53-4fab-beec-07afb756ec63"
      },
      "execution_count": 55,
      "outputs": [
        {
          "output_type": "stream",
          "name": "stdout",
          "text": [
            "Multi Regression Train MSE is 10.8296\n",
            "Multi Regression Test MSE is 11.4576\n"
          ]
        }
      ]
    },
    {
      "cell_type": "markdown",
      "source": [
        "## Ridge Regression"
      ],
      "metadata": {
        "id": "HMc8BvWmJ6Ns"
      }
    },
    {
      "cell_type": "code",
      "source": [
        "from sklearn.linear_model import Ridge\n",
        "\n",
        "ridge_regressor = Ridge()\n",
        "ridge_regressor.fit(train_data, train_target)"
      ],
      "metadata": {
        "colab": {
          "base_uri": "https://localhost:8080/"
        },
        "id": "im5z68r1Waf0",
        "outputId": "6bb1d8b0-5ff2-4d1e-eccd-da246aedc37e"
      },
      "execution_count": 56,
      "outputs": [
        {
          "output_type": "execute_result",
          "data": {
            "text/plain": [
              "Ridge()"
            ]
          },
          "metadata": {},
          "execution_count": 56
        }
      ]
    },
    {
      "cell_type": "code",
      "source": [
        "ridge_regressor.intercept_"
      ],
      "metadata": {
        "colab": {
          "base_uri": "https://localhost:8080/"
        },
        "id": "9MPetsBMWmeg",
        "outputId": "6ec7b924-4e88-4775-d74a-13947bdd2f55"
      },
      "execution_count": 59,
      "outputs": [
        {
          "output_type": "execute_result",
          "data": {
            "text/plain": [
              "21399.101166086228"
            ]
          },
          "metadata": {},
          "execution_count": 59
        }
      ]
    },
    {
      "cell_type": "code",
      "source": [
        "ridge_regressor.coef_"
      ],
      "metadata": {
        "colab": {
          "base_uri": "https://localhost:8080/"
        },
        "id": "mZDxFPT-Wqcp",
        "outputId": "00604f09-3b89-45c4-ff64-eb0b5e46a1c8"
      },
      "execution_count": 60,
      "outputs": [
        {
          "output_type": "execute_result",
          "data": {
            "text/plain": [
              "array([-1.04111157e-03,  3.38325854e-02,  8.64116658e-02, -1.24290383e-04,\n",
              "        2.35653012e-01, -6.14310905e-02,  7.38145422e-02, -9.68202076e-10,\n",
              "        4.24086427e-09, -2.60953926e-08,  4.59109694e-01,  2.13427990e-02,\n",
              "       -8.90534148e-02, -3.97667801e-01, -4.37429462e-02, -5.47091476e-01,\n",
              "       -1.15807457e-01, -2.40218137e-01,  8.32801736e-02,  1.43726947e-02,\n",
              "        5.40837771e-02,  7.43095742e-03,  2.53802965e-02, -2.24120754e-02,\n",
              "        5.56049057e-04,  2.07780098e-01, -9.01815003e-02, -2.31037693e-02,\n",
              "        1.70050145e-02,  2.10315329e-02, -1.96040825e-05, -4.95246890e-03,\n",
              "       -6.33495476e-06])"
            ]
          },
          "metadata": {},
          "execution_count": 60
        }
      ]
    },
    {
      "cell_type": "markdown",
      "source": [
        "예측"
      ],
      "metadata": {
        "id": "OebiqRvhWvor"
      }
    },
    {
      "cell_type": "code",
      "source": [
        "ridge_train_pred = ridge_regressor.predict(train_data)\n",
        "ridge_test_pred = ridge_regressor.predict(test_data)"
      ],
      "metadata": {
        "id": "to4ipIyVW0k8"
      },
      "execution_count": 62,
      "outputs": []
    },
    {
      "cell_type": "markdown",
      "source": [
        "평가"
      ],
      "metadata": {
        "id": "7eP0XzQRW68s"
      }
    },
    {
      "cell_type": "code",
      "source": [
        "ridge_train_mse = mean_squared_error(ridge_train_pred, train_target)\n",
        "ridge_test_mse = mean_squared_error(ridge_test_pred, test_target)"
      ],
      "metadata": {
        "id": "pRjG8hRrW7g1"
      },
      "execution_count": 63,
      "outputs": []
    },
    {
      "cell_type": "code",
      "source": [
        "print(f'Ridge Regression Train MSE is {ridge_train_mse:.4f}')\n",
        "print(f'Ridge Regression Test MSE is {ridge_test_mse:.4f}')"
      ],
      "metadata": {
        "colab": {
          "base_uri": "https://localhost:8080/"
        },
        "id": "JMSC1t1nXFNh",
        "outputId": "3f472e70-a8b2-48fd-e39f-c8cf614626ca"
      },
      "execution_count": 65,
      "outputs": [
        {
          "output_type": "stream",
          "name": "stdout",
          "text": [
            "Ridge Regression Train MSE is 10.8296\n",
            "Ridge Regression Test MSE is 11.4575\n"
          ]
        }
      ]
    },
    {
      "cell_type": "markdown",
      "source": [
        "LASSO Regression"
      ],
      "metadata": {
        "id": "t0Rgl7MyXRUA"
      }
    },
    {
      "cell_type": "code",
      "source": [
        "from sklearn.linear_model import Lasso\n",
        "\n",
        "lasso_regressor = Lasso()\n",
        "lasso_regressor.fit(train_data, train_target)"
      ],
      "metadata": {
        "colab": {
          "base_uri": "https://localhost:8080/"
        },
        "id": "_oVnzRnyXTRy",
        "outputId": "faa6a574-7156-4800-af97-e9cd929aee02"
      },
      "execution_count": 66,
      "outputs": [
        {
          "output_type": "execute_result",
          "data": {
            "text/plain": [
              "Lasso()"
            ]
          },
          "metadata": {},
          "execution_count": 66
        }
      ]
    },
    {
      "cell_type": "markdown",
      "source": [
        "회귀식 확인"
      ],
      "metadata": {
        "id": "-pKcQ2qxXbeJ"
      }
    },
    {
      "cell_type": "code",
      "source": [
        "lasso_regressor.intercept_"
      ],
      "metadata": {
        "colab": {
          "base_uri": "https://localhost:8080/"
        },
        "id": "YuDe2k6WXcqF",
        "outputId": "8b1d78bf-3236-474f-c056-ea4b5e2bb9c4"
      },
      "execution_count": 67,
      "outputs": [
        {
          "output_type": "execute_result",
          "data": {
            "text/plain": [
              "7926.089759751851"
            ]
          },
          "metadata": {},
          "execution_count": 67
        }
      ]
    },
    {
      "cell_type": "code",
      "source": [
        "lasso_regressor.coef_"
      ],
      "metadata": {
        "colab": {
          "base_uri": "https://localhost:8080/"
        },
        "id": "FKdU4i1OXemN",
        "outputId": "5c141703-4b85-4779-b620-0da1432e83f8"
      },
      "execution_count": 68,
      "outputs": [
        {
          "output_type": "execute_result",
          "data": {
            "text/plain": [
              "array([-3.78046527e-04,  0.00000000e+00,  4.42802428e-02, -2.33709454e-04,\n",
              "        0.00000000e+00, -0.00000000e+00,  0.00000000e+00, -7.69663387e-10,\n",
              "       -1.48236039e-08, -3.91455245e-08,  0.00000000e+00, -0.00000000e+00,\n",
              "        0.00000000e+00, -0.00000000e+00, -0.00000000e+00, -0.00000000e+00,\n",
              "       -0.00000000e+00, -0.00000000e+00, -0.00000000e+00,  0.00000000e+00,\n",
              "        0.00000000e+00,  7.41902010e-03,  4.18599161e-03, -0.00000000e+00,\n",
              "       -1.07420165e-04,  0.00000000e+00, -0.00000000e+00,  0.00000000e+00,\n",
              "        0.00000000e+00,  0.00000000e+00,  6.31305040e-04, -4.54842628e-03,\n",
              "       -5.91156371e-06])"
            ]
          },
          "metadata": {},
          "execution_count": 68
        }
      ]
    },
    {
      "cell_type": "markdown",
      "source": [
        "예측"
      ],
      "metadata": {
        "id": "hHEiO17XXf-E"
      }
    },
    {
      "cell_type": "code",
      "source": [
        "lasso_train_pred = lasso_regressor.predict(train_data)\n",
        "lasso_test_pred = lasso_regressor.predict(test_data)"
      ],
      "metadata": {
        "id": "RxEEEWZCXhFl"
      },
      "execution_count": 72,
      "outputs": []
    },
    {
      "cell_type": "code",
      "source": [
        "lasso_train_mse = mean_squared_error(lasso_train_pred, train_target)\n",
        "lasso_test_mse = mean_squared_error(lasso_test_pred, test_target)"
      ],
      "metadata": {
        "id": "tWM8zANuXvan"
      },
      "execution_count": 73,
      "outputs": []
    },
    {
      "cell_type": "code",
      "source": [
        "print(f'LASSO Regression Train MSE is {lasso_train_mse:.4f}')\n",
        "print(f'LASSO Regression Test MSE is {lasso_test_mse:.4f}')"
      ],
      "metadata": {
        "colab": {
          "base_uri": "https://localhost:8080/"
        },
        "id": "Fr8NetfiXmpd",
        "outputId": "6ccc1e59-b169-4410-8b2a-b2d5ce59b821"
      },
      "execution_count": 75,
      "outputs": [
        {
          "output_type": "stream",
          "name": "stdout",
          "text": [
            "LASSO Regression Train MSE is 11.6262\n",
            "LASSO Regression Test MSE is 12.0785\n"
          ]
        }
      ]
    },
    {
      "cell_type": "code",
      "source": [
        "print(f\"Multi Regression Test MSE is {multi_test_mse:.4f}\")\n",
        "print(f\"Ridge Regression Test MSE is {ridge_test_mse:.4f}\")\n",
        "print(f\"LASSO Regression Test MSE is {lasso_test_mse:.4f}\")"
      ],
      "metadata": {
        "colab": {
          "base_uri": "https://localhost:8080/"
        },
        "id": "pdNdXoSxYJ-5",
        "outputId": "050c2578-e92c-4ba4-c770-0dc669dc46c9"
      },
      "execution_count": 77,
      "outputs": [
        {
          "output_type": "stream",
          "name": "stdout",
          "text": [
            "Multi Regression Test MSE is 11.4576\n",
            "Ridge Regression Test MSE is 11.4575\n",
            "LASSO Regression Test MSE is 12.0785\n"
          ]
        }
      ]
    },
    {
      "cell_type": "code",
      "source": [
        "fig, axes = plt.subplots(nrows=1, ncols=3, figsize=(15, 5))\n",
        "preds = [\n",
        "    (\"Multi regression\", multi_test_pred),\n",
        "    (\"Ridge regression\", ridge_test_pred),\n",
        "    (\"LASSO regression\", lasso_test_pred),\n",
        "]\n",
        "\n",
        "for idx, (name, test_pred) in enumerate(preds):\n",
        "    ax = axes[idx]\n",
        "    ax.scatter(test_pred, test_target)\n",
        "    ax.plot(np.linspace(0, 330, 100), np.linspace(0, 330, 100), color=\"red\")\n",
        "    ax.set_xlabel(\"Predict\")\n",
        "    ax.set_ylabel(\"Real\")\n",
        "    ax.set_title(name)"
      ],
      "metadata": {
        "colab": {
          "base_uri": "https://localhost:8080/",
          "height": 351
        },
        "id": "ZF15fIjUYOPt",
        "outputId": "bd389803-ba19-4eab-fc2a-cd109d633ff4"
      },
      "execution_count": 78,
      "outputs": [
        {
          "output_type": "display_data",
          "data": {
            "text/plain": [
              "<Figure size 1080x360 with 3 Axes>"
            ],
            "image/png": "[encoded data removed]"
          },
          "metadata": {
            "image/png": {
              "width": 890,
              "height": 334
            },
            "needs_background": "light"
          }
        }
      ]
    }
  ]
}